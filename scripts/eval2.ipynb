{
 "cells": [
  {
   "cell_type": "markdown",
   "metadata": {},
   "source": [
    "# Linear Regression"
   ]
  },
  {
   "cell_type": "code",
   "execution_count": 1,
   "metadata": {},
   "outputs": [],
   "source": [
    "%load_ext autoreload\n",
    "%autoreload 2\n",
    "from si.data import Dataset, summary\n",
    "from src.si.util.scale import StandardScaler\n",
    "from si.supervised.LinRegression import LinearRegression,LinearRegressionReg\n",
    "import numpy as np\n",
    "import os"
   ]
  },
  {
   "cell_type": "code",
   "execution_count": 2,
   "metadata": {},
   "outputs": [
    {
     "data": {
      "text/plain": "                 A          Y\nmean  3.193322e-16   5.839135\nvar   1.000000e+00  30.049970\nmin  -8.137648e-01  -2.680700\nmax   3.647694e+00  24.147000",
      "text/html": "<div>\n<style scoped>\n    .dataframe tbody tr th:only-of-type {\n        vertical-align: middle;\n    }\n\n    .dataframe tbody tr th {\n        vertical-align: top;\n    }\n\n    .dataframe thead th {\n        text-align: right;\n    }\n</style>\n<table border=\"1\" class=\"dataframe\">\n  <thead>\n    <tr style=\"text-align: right;\">\n      <th></th>\n      <th>A</th>\n      <th>Y</th>\n    </tr>\n  </thead>\n  <tbody>\n    <tr>\n      <th>mean</th>\n      <td>3.193322e-16</td>\n      <td>5.839135</td>\n    </tr>\n    <tr>\n      <th>var</th>\n      <td>1.000000e+00</td>\n      <td>30.049970</td>\n    </tr>\n    <tr>\n      <th>min</th>\n      <td>-8.137648e-01</td>\n      <td>-2.680700</td>\n    </tr>\n    <tr>\n      <th>max</th>\n      <td>3.647694e+00</td>\n      <td>24.147000</td>\n    </tr>\n  </tbody>\n</table>\n</div>"
     },
     "execution_count": 2,
     "metadata": {},
     "output_type": "execute_result"
    }
   ],
   "source": [
    "DIR = os.path.dirname(os.path.realpath('.'))\n",
    "filename = os.path.join(DIR, 'datasets/lr-example1.data')\n",
    "dataset = Dataset.from_data(filename, labeled=True)\n",
    "StandardScaler().fit_transform(dataset,inline=True)\n",
    "summary(dataset)"
   ]
  },
  {
   "cell_type": "code",
   "execution_count": 3,
   "metadata": {},
   "outputs": [
    {
     "data": {
      "text/plain": "<Figure size 432x288 with 1 Axes>",
      "image/png": "[encoded data removed]"
     },
     "metadata": {
      "needs_background": "light"
     },
     "output_type": "display_data"
    }
   ],
   "source": [
    "import matplotlib.pyplot as plt\n",
    "%matplotlib inline\n",
    "if dataset.X.shape[1]==1:\n",
    "    plt.scatter(dataset.X, dataset.Y)\n",
    "    plt.show()\n"
   ]
  },
  {
   "cell_type": "markdown",
   "metadata": {},
   "source": [
    "## Linear Regression using closed form "
   ]
  },
  {
   "cell_type": "code",
   "execution_count": 4,
   "metadata": {},
   "outputs": [
    {
     "name": "stdout",
     "output_type": "stream",
     "text": [
      "Theta =  [5.83913505 4.59304113]\n"
     ]
    }
   ],
   "source": [
    "lr = LinearRegression()\n",
    "lr.fit(dataset)\n",
    "print('Theta = ', lr.theta)"
   ]
  },
  {
   "cell_type": "code",
   "execution_count": 5,
   "metadata": {},
   "outputs": [
    {
     "name": "stdout",
     "output_type": "stream",
     "text": [
      "x =  [-0.63614904]\n",
      "y_pred =  2.9172763535616566\n",
      "y_true =  3.2522\n"
     ]
    }
   ],
   "source": [
    "idx = 10\n",
    "x = dataset.X[idx]\n",
    "print(\"x = \",x)\n",
    "y = dataset.Y[idx]\n",
    "y_pred = lr.predict(x)\n",
    "print(\"y_pred = \",y_pred)\n",
    "print(\"y_true = \", y)\n"
   ]
  },
  {
   "cell_type": "code",
   "execution_count": 6,
   "metadata": {},
   "outputs": [
    {
     "data": {
      "text/plain": "4.476971375975178"
     },
     "execution_count": 6,
     "metadata": {},
     "output_type": "execute_result"
    }
   ],
   "source": [
    "lr.cost()"
   ]
  },
  {
   "cell_type": "code",
   "execution_count": 7,
   "metadata": {},
   "outputs": [
    {
     "data": {
      "text/plain": "<Figure size 432x288 with 1 Axes>",
      "image/png": "[encoded data removed]"
     },
     "metadata": {
      "needs_background": "light"
     },
     "output_type": "display_data"
    }
   ],
   "source": [
    "if dataset.X.shape[1] == 1:\n",
    "    plt.scatter(dataset.X, dataset.Y)\n",
    "    plt.plot(lr.X[:,1], np.dot(lr.X, lr.theta), '-', color='red')\n",
    "    plt.show()\n"
   ]
  },
  {
   "cell_type": "markdown",
   "metadata": {},
   "source": [
    "## Linear Regression using gradient descent"
   ]
  },
  {
   "cell_type": "code",
   "execution_count": 8,
   "metadata": {},
   "outputs": [
    {
     "name": "stdout",
     "output_type": "stream",
     "text": [
      "Theta =  [5.83913505 4.59304113]\n"
     ]
    }
   ],
   "source": [
    "lr = LinearRegression(gd=True,epochs=50000)\n",
    "lr.fit(dataset)\n",
    "print('Theta = ', lr.theta)"
   ]
  },
  {
   "cell_type": "code",
   "execution_count": 9,
   "metadata": {},
   "outputs": [
    {
     "data": {
      "text/plain": "<Figure size 432x288 with 1 Axes>",
      "image/png": "[encoded data removed]"
     },
     "metadata": {
      "needs_background": "light"
     },
     "output_type": "display_data"
    }
   ],
   "source": [
    "plt.plot(list(lr.history.keys()), [ y[1] for y in lr.history.values()], '-', color='red')\n",
    "plt.title('Cost')\n",
    "plt.show()"
   ]
  },
  {
   "cell_type": "markdown",
   "metadata": {},
   "source": [
    "# Linear Regression with Regularization"
   ]
  },
  {
   "cell_type": "code",
   "execution_count": 10,
   "metadata": {},
   "outputs": [
    {
     "name": "stdout",
     "output_type": "stream",
     "text": [
      "Theta =  [5.83913505 4.54617337]\n"
     ]
    }
   ],
   "source": [
    "lr = LinearRegressionReg()\n",
    "lr.fit(dataset)\n",
    "print('Theta = ', lr.theta)\n"
   ]
  },
  {
   "cell_type": "code",
   "execution_count": 11,
   "metadata": {},
   "outputs": [
    {
     "name": "stdout",
     "output_type": "stream",
     "text": [
      "x =  [-0.63614904]\n",
      "y_pred =  2.947091238234969\n",
      "y_true =  3.2522\n"
     ]
    }
   ],
   "source": [
    "idx = 10\n",
    "x = dataset.X[idx]\n",
    "print(\"x = \", x)\n",
    "y = dataset.Y[idx]\n",
    "y_pred = lr.predict(x)\n",
    "print(\"y_pred = \", y_pred)\n",
    "print(\"y_true = \", y)\n"
   ]
  },
  {
   "cell_type": "markdown",
   "metadata": {},
   "source": [
    "# Logistic Regression"
   ]
  },
  {
   "cell_type": "code",
   "execution_count": 15,
   "metadata": {},
   "outputs": [],
   "source": [
    "from src.si.supervised.LogRegression import LogisticRegression, LogisticRegressionReg\n",
    "import pandas as pd"
   ]
  },
  {
   "cell_type": "code",
   "execution_count": 17,
   "metadata": {},
   "outputs": [
    {
     "data": {
      "text/plain": "             A         B         Y\nmean  5.843333  3.054000  0.666667\nvar   0.681122  0.186751  0.222222\nmin   4.300000  2.000000  0.000000\nmax   7.900000  4.400000  1.000000",
      "text/html": "<div>\n<style scoped>\n    .dataframe tbody tr th:only-of-type {\n        vertical-align: middle;\n    }\n\n    .dataframe tbody tr th {\n        vertical-align: top;\n    }\n\n    .dataframe thead th {\n        text-align: right;\n    }\n</style>\n<table border=\"1\" class=\"dataframe\">\n  <thead>\n    <tr style=\"text-align: right;\">\n      <th></th>\n      <th>A</th>\n      <th>B</th>\n      <th>Y</th>\n    </tr>\n  </thead>\n  <tbody>\n    <tr>\n      <th>mean</th>\n      <td>5.843333</td>\n      <td>3.054000</td>\n      <td>0.666667</td>\n    </tr>\n    <tr>\n      <th>var</th>\n      <td>0.681122</td>\n      <td>0.186751</td>\n      <td>0.222222</td>\n    </tr>\n    <tr>\n      <th>min</th>\n      <td>4.300000</td>\n      <td>2.000000</td>\n      <td>0.000000</td>\n    </tr>\n    <tr>\n      <th>max</th>\n      <td>7.900000</td>\n      <td>4.400000</td>\n      <td>1.000000</td>\n    </tr>\n  </tbody>\n</table>\n</div>"
     },
     "execution_count": 17,
     "metadata": {},
     "output_type": "execute_result"
    }
   ],
   "source": [
    "filename = os.path.join(DIR, 'datasets/iris.data')\n",
    "df = pd.read_csv(filename)\n",
    "iris = Dataset.from_dataframe(df,ylabel=\"class\")\n",
    "y = [int(x != 'Iris-setosa') for x in iris.Y]\n",
    "dataset = Dataset(iris.X[:,:2],np.array(y))\n",
    "summary(dataset)"
   ]
  },
  {
   "cell_type": "code",
   "execution_count": 19,
   "metadata": {},
   "outputs": [
    {
     "data": {
      "text/plain": "<Figure size 432x288 with 1 Axes>",
      "image/png": "[encoded data removed]"
     },
     "metadata": {
      "needs_background": "light"
     },
     "output_type": "display_data"
    }
   ],
   "source": [
    "plt.scatter(dataset.X[:,0], dataset.X[:,1],c=dataset.Y)\n",
    "plt.show()"
   ]
  },
  {
   "cell_type": "code",
   "execution_count": 20,
   "metadata": {},
   "outputs": [],
   "source": [
    "logreg = LogisticRegression(epochs=20000)"
   ]
  },
  {
   "cell_type": "code",
   "execution_count": 16,
   "metadata": {},
   "outputs": [
    {
     "data": {
      "text/plain": [
       "array([ -4.82595683,   6.87221822, -10.42041025])"
      ]
     },
     "execution_count": 16,
     "metadata": {},
     "output_type": "execute_result"
    }
   ],
   "source": [
    "logreg.fit(dataset)\n",
    "logreg.theta"
   ]
  },
  {
   "cell_type": "code",
   "execution_count": 17,
   "metadata": {},
   "outputs": [
    {
     "data": {
      "image/png": "[encoded data removed]",
      "text/plain": [
       "<Figure size 432x288 with 1 Axes>"
      ]
     },
     "metadata": {
      "needs_background": "light"
     },
     "output_type": "display_data"
    }
   ],
   "source": [
    "plt.scatter(dataset.X[:,0], dataset.X[:,1],c=dataset.y)\n",
    "_x = np.linspace(min(dataset.X[:,0]),max(dataset.X[:,0]),2)\n",
    "_y = [(-logreg.theta[0]-logreg.theta[1]*x)/logreg.theta[2] for x in _x]\n",
    "plt.plot(_x, _y, '-', color='red')\n",
    "plt.show()"
   ]
  },
  {
   "cell_type": "code",
   "execution_count": 18,
   "metadata": {},
   "outputs": [
    {
     "data": {
      "image/png": "[encoded data removed]",
      "text/plain": [
       "<Figure size 432x288 with 1 Axes>"
      ]
     },
     "metadata": {
      "needs_background": "light"
     },
     "output_type": "display_data"
    }
   ],
   "source": [
    "plt.plot(list(logreg.history.keys()), [ y[1] for y in logreg.history.values()], '-', color='red')\n",
    "plt.title('Cost')\n",
    "plt.show()"
   ]
  },
  {
   "cell_type": "code",
   "execution_count": 19,
   "metadata": {},
   "outputs": [
    {
     "name": "stdout",
     "output_type": "stream",
     "text": [
      "Pred. example: 1\n"
     ]
    }
   ],
   "source": [
    "ex = np.array([5.5, 2])\n",
    "print(\"Pred. example:\", logreg.predict(ex))\n"
   ]
  },
  {
   "cell_type": "markdown",
   "metadata": {},
   "source": [
    "# Logistic Regression with L2 regularization"
   ]
  },
  {
   "cell_type": "code",
   "execution_count": 20,
   "metadata": {},
   "outputs": [
    {
     "data": {
      "text/plain": [
       "array([-0.88465655,  2.34501229, -3.72252587])"
      ]
     },
     "execution_count": 20,
     "metadata": {},
     "output_type": "execute_result"
    }
   ],
   "source": [
    "logreg = LogisticRegressionReg()\n",
    "logreg.fit(dataset)\n",
    "logreg.theta"
   ]
  },
  {
   "cell_type": "code",
   "execution_count": 21,
   "metadata": {},
   "outputs": [
    {
     "data": {
      "image/png": "[encoded data removed]",
      "text/plain": [
       "<Figure size 432x288 with 1 Axes>"
      ]
     },
     "metadata": {
      "needs_background": "light"
     },
     "output_type": "display_data"
    }
   ],
   "source": [
    "plt.scatter(dataset.X[:,0], dataset.X[:,1],c=dataset.y)\n",
    "_x = np.linspace(min(dataset.X[:,0]),max(dataset.X[:,0]),2)\n",
    "_y = [(-logreg.theta[0]-logreg.theta[1]*x)/logreg.theta[2] for x in _x]\n",
    "plt.plot(_x, _y, '-', color='red')\n",
    "plt.show()"
   ]
  },
  {
   "cell_type": "code",
   "execution_count": 22,
   "metadata": {},
   "outputs": [
    {
     "name": "stdout",
     "output_type": "stream",
     "text": [
      "Pred. example: 1\n"
     ]
    }
   ],
   "source": [
    "ex = np.array([5.5, 2])\n",
    "print(\"Pred. example:\", logreg.predict(ex))\n"
   ]
  },
  {
   "cell_type": "markdown",
   "metadata": {},
   "source": [
    "# Cross-validation"
   ]
  },
  {
   "cell_type": "code",
   "execution_count": 23,
   "metadata": {},
   "outputs": [],
   "source": [
    "from si.util.cv import CrossValidationScore"
   ]
  },
  {
   "cell_type": "code",
   "execution_count": 24,
   "metadata": {},
   "outputs": [
    {
     "data": {
      "text/html": [
       "<div>\n",
       "<style scoped>\n",
       "    .dataframe tbody tr th:only-of-type {\n",
       "        vertical-align: middle;\n",
       "    }\n",
       "\n",
       "    .dataframe tbody tr th {\n",
       "        vertical-align: top;\n",
       "    }\n",
       "\n",
       "    .dataframe thead th {\n",
       "        text-align: right;\n",
       "    }\n",
       "</style>\n",
       "<table border=\"1\" class=\"dataframe\">\n",
       "  <thead>\n",
       "    <tr style=\"text-align: right;\">\n",
       "      <th></th>\n",
       "      <th>Train Scores</th>\n",
       "      <th>Test Scores</th>\n",
       "    </tr>\n",
       "  </thead>\n",
       "  <tbody>\n",
       "    <tr>\n",
       "      <th>0</th>\n",
       "      <td>0.077947</td>\n",
       "      <td>0.104602</td>\n",
       "    </tr>\n",
       "    <tr>\n",
       "      <th>1</th>\n",
       "      <td>0.091300</td>\n",
       "      <td>0.069226</td>\n",
       "    </tr>\n",
       "    <tr>\n",
       "      <th>2</th>\n",
       "      <td>0.065516</td>\n",
       "      <td>0.169872</td>\n",
       "    </tr>\n",
       "    <tr>\n",
       "      <th>3</th>\n",
       "      <td>0.082540</td>\n",
       "      <td>0.099529</td>\n",
       "    </tr>\n",
       "    <tr>\n",
       "      <th>4</th>\n",
       "      <td>0.070054</td>\n",
       "      <td>0.138889</td>\n",
       "    </tr>\n",
       "  </tbody>\n",
       "</table>\n",
       "</div>"
      ],
      "text/plain": [
       "   Train Scores  Test Scores\n",
       "0      0.077947     0.104602\n",
       "1      0.091300     0.069226\n",
       "2      0.065516     0.169872\n",
       "3      0.082540     0.099529\n",
       "4      0.070054     0.138889"
      ]
     },
     "execution_count": 24,
     "metadata": {},
     "output_type": "execute_result"
    }
   ],
   "source": [
    "logreg = LogisticRegression(epochs=1000)\n",
    "cv = CrossValidationScore(logreg,dataset,cv=5)\n",
    "cv.run()\n",
    "cv.toDataframe()"
   ]
  },
  {
   "cell_type": "code",
   "execution_count": 25,
   "metadata": {},
   "outputs": [
    {
     "data": {
      "text/html": [
       "<div>\n",
       "<style scoped>\n",
       "    .dataframe tbody tr th:only-of-type {\n",
       "        vertical-align: middle;\n",
       "    }\n",
       "\n",
       "    .dataframe tbody tr th {\n",
       "        vertical-align: top;\n",
       "    }\n",
       "\n",
       "    .dataframe thead th {\n",
       "        text-align: right;\n",
       "    }\n",
       "</style>\n",
       "<table border=\"1\" class=\"dataframe\">\n",
       "  <thead>\n",
       "    <tr style=\"text-align: right;\">\n",
       "      <th></th>\n",
       "      <th>Train Scores</th>\n",
       "      <th>Test Scores</th>\n",
       "    </tr>\n",
       "  </thead>\n",
       "  <tbody>\n",
       "    <tr>\n",
       "      <th>0</th>\n",
       "      <td>0.175962</td>\n",
       "      <td>0.268659</td>\n",
       "    </tr>\n",
       "    <tr>\n",
       "      <th>1</th>\n",
       "      <td>0.174419</td>\n",
       "      <td>0.279721</td>\n",
       "    </tr>\n",
       "    <tr>\n",
       "      <th>2</th>\n",
       "      <td>0.178894</td>\n",
       "      <td>0.256264</td>\n",
       "    </tr>\n",
       "    <tr>\n",
       "      <th>3</th>\n",
       "      <td>0.164381</td>\n",
       "      <td>0.310746</td>\n",
       "    </tr>\n",
       "  </tbody>\n",
       "</table>\n",
       "</div>"
      ],
      "text/plain": [
       "   Train Scores  Test Scores\n",
       "0      0.175962     0.268659\n",
       "1      0.174419     0.279721\n",
       "2      0.178894     0.256264\n",
       "3      0.164381     0.310746"
      ]
     },
     "execution_count": 25,
     "metadata": {},
     "output_type": "execute_result"
    }
   ],
   "source": [
    "logreg = LogisticRegressionReg(epochs=500, lbd=0.5)\n",
    "cv = CrossValidationScore(logreg, dataset, cv=4)\n",
    "cv.run()\n",
    "cv.toDataframe()"
   ]
  },
  {
   "cell_type": "markdown",
   "metadata": {},
   "source": [
    "# Grid Search with Cross-Validation"
   ]
  },
  {
   "cell_type": "code",
   "execution_count": 26,
   "metadata": {},
   "outputs": [],
   "source": [
    "from si.util.cv import GridSearchCV"
   ]
  },
  {
   "cell_type": "code",
   "execution_count": 31,
   "metadata": {},
   "outputs": [],
   "source": [
    "parameters ={'epochs':[100,200,400,800,1000],'lbd':[0,0.2,0.4,0.6]}\n",
    "gs = GridSearchCV(logreg, dataset, parameters, cv=3, split=0.8)\n",
    "gs.run()\n",
    "df = gs.toDataframe()"
   ]
  },
  {
   "cell_type": "code",
   "execution_count": 32,
   "metadata": {},
   "outputs": [
    {
     "data": {
      "text/html": [
       "<div>\n",
       "<style scoped>\n",
       "    .dataframe tbody tr th:only-of-type {\n",
       "        vertical-align: middle;\n",
       "    }\n",
       "\n",
       "    .dataframe tbody tr th {\n",
       "        vertical-align: top;\n",
       "    }\n",
       "\n",
       "    .dataframe thead th {\n",
       "        text-align: right;\n",
       "    }\n",
       "</style>\n",
       "<table border=\"1\" class=\"dataframe\">\n",
       "  <thead>\n",
       "    <tr style=\"text-align: right;\">\n",
       "      <th></th>\n",
       "      <th>epochs</th>\n",
       "      <th>lbd</th>\n",
       "      <th>CV_1 train</th>\n",
       "      <th>CV_1 test</th>\n",
       "      <th>CV_2 train</th>\n",
       "      <th>CV_2 test</th>\n",
       "      <th>CV_3 train</th>\n",
       "      <th>CV_3 test</th>\n",
       "    </tr>\n",
       "  </thead>\n",
       "  <tbody>\n",
       "    <tr>\n",
       "      <th>16</th>\n",
       "      <td>1000</td>\n",
       "      <td>0.0</td>\n",
       "      <td>0.089957</td>\n",
       "      <td>0.073837</td>\n",
       "      <td>0.087457</td>\n",
       "      <td>0.083139</td>\n",
       "      <td>0.082723</td>\n",
       "      <td>0.104220</td>\n",
       "    </tr>\n",
       "    <tr>\n",
       "      <th>12</th>\n",
       "      <td>800</td>\n",
       "      <td>0.0</td>\n",
       "      <td>0.104675</td>\n",
       "      <td>0.069143</td>\n",
       "      <td>0.097580</td>\n",
       "      <td>0.094871</td>\n",
       "      <td>0.081422</td>\n",
       "      <td>0.151326</td>\n",
       "    </tr>\n",
       "    <tr>\n",
       "      <th>17</th>\n",
       "      <td>1000</td>\n",
       "      <td>0.2</td>\n",
       "      <td>0.117527</td>\n",
       "      <td>0.195598</td>\n",
       "      <td>0.122199</td>\n",
       "      <td>0.177352</td>\n",
       "      <td>0.115399</td>\n",
       "      <td>0.200793</td>\n",
       "    </tr>\n",
       "    <tr>\n",
       "      <th>13</th>\n",
       "      <td>800</td>\n",
       "      <td>0.2</td>\n",
       "      <td>0.123826</td>\n",
       "      <td>0.193657</td>\n",
       "      <td>0.111756</td>\n",
       "      <td>0.235957</td>\n",
       "      <td>0.124687</td>\n",
       "      <td>0.199215</td>\n",
       "    </tr>\n",
       "    <tr>\n",
       "      <th>18</th>\n",
       "      <td>1000</td>\n",
       "      <td>0.4</td>\n",
       "      <td>0.144526</td>\n",
       "      <td>0.267949</td>\n",
       "      <td>0.145599</td>\n",
       "      <td>0.263016</td>\n",
       "      <td>0.144618</td>\n",
       "      <td>0.268178</td>\n",
       "    </tr>\n",
       "    <tr>\n",
       "      <th>8</th>\n",
       "      <td>400</td>\n",
       "      <td>0.0</td>\n",
       "      <td>0.145804</td>\n",
       "      <td>0.160368</td>\n",
       "      <td>0.151073</td>\n",
       "      <td>0.111532</td>\n",
       "      <td>0.154837</td>\n",
       "      <td>0.107870</td>\n",
       "    </tr>\n",
       "    <tr>\n",
       "      <th>14</th>\n",
       "      <td>800</td>\n",
       "      <td>0.4</td>\n",
       "      <td>0.151069</td>\n",
       "      <td>0.254449</td>\n",
       "      <td>0.151485</td>\n",
       "      <td>0.249140</td>\n",
       "      <td>0.144943</td>\n",
       "      <td>0.278321</td>\n",
       "    </tr>\n",
       "    <tr>\n",
       "      <th>19</th>\n",
       "      <td>1000</td>\n",
       "      <td>0.6</td>\n",
       "      <td>0.155433</td>\n",
       "      <td>0.382003</td>\n",
       "      <td>0.171694</td>\n",
       "      <td>0.311334</td>\n",
       "      <td>0.172473</td>\n",
       "      <td>0.305875</td>\n",
       "    </tr>\n",
       "    <tr>\n",
       "      <th>9</th>\n",
       "      <td>400</td>\n",
       "      <td>0.2</td>\n",
       "      <td>0.169764</td>\n",
       "      <td>0.171419</td>\n",
       "      <td>0.144295</td>\n",
       "      <td>0.257840</td>\n",
       "      <td>0.162318</td>\n",
       "      <td>0.192780</td>\n",
       "    </tr>\n",
       "    <tr>\n",
       "      <th>15</th>\n",
       "      <td>800</td>\n",
       "      <td>0.6</td>\n",
       "      <td>0.171040</td>\n",
       "      <td>0.311291</td>\n",
       "      <td>0.171123</td>\n",
       "      <td>0.312847</td>\n",
       "      <td>0.167213</td>\n",
       "      <td>0.330959</td>\n",
       "    </tr>\n",
       "    <tr>\n",
       "      <th>10</th>\n",
       "      <td>400</td>\n",
       "      <td>0.4</td>\n",
       "      <td>0.174683</td>\n",
       "      <td>0.254944</td>\n",
       "      <td>0.183909</td>\n",
       "      <td>0.219552</td>\n",
       "      <td>0.177193</td>\n",
       "      <td>0.245969</td>\n",
       "    </tr>\n",
       "    <tr>\n",
       "      <th>11</th>\n",
       "      <td>400</td>\n",
       "      <td>0.6</td>\n",
       "      <td>0.191235</td>\n",
       "      <td>0.295994</td>\n",
       "      <td>0.193775</td>\n",
       "      <td>0.286723</td>\n",
       "      <td>0.192313</td>\n",
       "      <td>0.300885</td>\n",
       "    </tr>\n",
       "    <tr>\n",
       "      <th>5</th>\n",
       "      <td>200</td>\n",
       "      <td>0.2</td>\n",
       "      <td>0.224917</td>\n",
       "      <td>0.285636</td>\n",
       "      <td>0.223090</td>\n",
       "      <td>0.263124</td>\n",
       "      <td>0.226093</td>\n",
       "      <td>0.305182</td>\n",
       "    </tr>\n",
       "    <tr>\n",
       "      <th>4</th>\n",
       "      <td>200</td>\n",
       "      <td>0.0</td>\n",
       "      <td>0.234131</td>\n",
       "      <td>0.173295</td>\n",
       "      <td>0.206905</td>\n",
       "      <td>0.266283</td>\n",
       "      <td>0.221252</td>\n",
       "      <td>0.213330</td>\n",
       "    </tr>\n",
       "    <tr>\n",
       "      <th>6</th>\n",
       "      <td>200</td>\n",
       "      <td>0.4</td>\n",
       "      <td>0.240479</td>\n",
       "      <td>0.277265</td>\n",
       "      <td>0.228599</td>\n",
       "      <td>0.330542</td>\n",
       "      <td>0.237084</td>\n",
       "      <td>0.273502</td>\n",
       "    </tr>\n",
       "    <tr>\n",
       "      <th>7</th>\n",
       "      <td>200</td>\n",
       "      <td>0.6</td>\n",
       "      <td>0.243667</td>\n",
       "      <td>0.306742</td>\n",
       "      <td>0.245842</td>\n",
       "      <td>0.279892</td>\n",
       "      <td>0.242477</td>\n",
       "      <td>0.319307</td>\n",
       "    </tr>\n",
       "    <tr>\n",
       "      <th>0</th>\n",
       "      <td>100</td>\n",
       "      <td>0.0</td>\n",
       "      <td>0.319869</td>\n",
       "      <td>0.330323</td>\n",
       "      <td>0.330197</td>\n",
       "      <td>0.265669</td>\n",
       "      <td>0.325446</td>\n",
       "      <td>0.311899</td>\n",
       "    </tr>\n",
       "    <tr>\n",
       "      <th>1</th>\n",
       "      <td>100</td>\n",
       "      <td>0.2</td>\n",
       "      <td>0.321341</td>\n",
       "      <td>0.314512</td>\n",
       "      <td>0.321286</td>\n",
       "      <td>0.330664</td>\n",
       "      <td>0.316926</td>\n",
       "      <td>0.368556</td>\n",
       "    </tr>\n",
       "    <tr>\n",
       "      <th>2</th>\n",
       "      <td>100</td>\n",
       "      <td>0.4</td>\n",
       "      <td>0.325204</td>\n",
       "      <td>0.326094</td>\n",
       "      <td>0.313194</td>\n",
       "      <td>0.394844</td>\n",
       "      <td>0.334768</td>\n",
       "      <td>0.333552</td>\n",
       "    </tr>\n",
       "    <tr>\n",
       "      <th>3</th>\n",
       "      <td>100</td>\n",
       "      <td>0.6</td>\n",
       "      <td>0.326330</td>\n",
       "      <td>0.351894</td>\n",
       "      <td>0.335306</td>\n",
       "      <td>0.336954</td>\n",
       "      <td>0.342263</td>\n",
       "      <td>0.285354</td>\n",
       "    </tr>\n",
       "  </tbody>\n",
       "</table>\n",
       "</div>"
      ],
      "text/plain": [
       "    epochs  lbd  CV_1 train  CV_1 test  CV_2 train  CV_2 test  CV_3 train  \\\n",
       "16    1000  0.0    0.089957   0.073837    0.087457   0.083139    0.082723   \n",
       "12     800  0.0    0.104675   0.069143    0.097580   0.094871    0.081422   \n",
       "17    1000  0.2    0.117527   0.195598    0.122199   0.177352    0.115399   \n",
       "13     800  0.2    0.123826   0.193657    0.111756   0.235957    0.124687   \n",
       "18    1000  0.4    0.144526   0.267949    0.145599   0.263016    0.144618   \n",
       "8      400  0.0    0.145804   0.160368    0.151073   0.111532    0.154837   \n",
       "14     800  0.4    0.151069   0.254449    0.151485   0.249140    0.144943   \n",
       "19    1000  0.6    0.155433   0.382003    0.171694   0.311334    0.172473   \n",
       "9      400  0.2    0.169764   0.171419    0.144295   0.257840    0.162318   \n",
       "15     800  0.6    0.171040   0.311291    0.171123   0.312847    0.167213   \n",
       "10     400  0.4    0.174683   0.254944    0.183909   0.219552    0.177193   \n",
       "11     400  0.6    0.191235   0.295994    0.193775   0.286723    0.192313   \n",
       "5      200  0.2    0.224917   0.285636    0.223090   0.263124    0.226093   \n",
       "4      200  0.0    0.234131   0.173295    0.206905   0.266283    0.221252   \n",
       "6      200  0.4    0.240479   0.277265    0.228599   0.330542    0.237084   \n",
       "7      200  0.6    0.243667   0.306742    0.245842   0.279892    0.242477   \n",
       "0      100  0.0    0.319869   0.330323    0.330197   0.265669    0.325446   \n",
       "1      100  0.2    0.321341   0.314512    0.321286   0.330664    0.316926   \n",
       "2      100  0.4    0.325204   0.326094    0.313194   0.394844    0.334768   \n",
       "3      100  0.6    0.326330   0.351894    0.335306   0.336954    0.342263   \n",
       "\n",
       "    CV_3 test  \n",
       "16   0.104220  \n",
       "12   0.151326  \n",
       "17   0.200793  \n",
       "13   0.199215  \n",
       "18   0.268178  \n",
       "8    0.107870  \n",
       "14   0.278321  \n",
       "19   0.305875  \n",
       "9    0.192780  \n",
       "15   0.330959  \n",
       "10   0.245969  \n",
       "11   0.300885  \n",
       "5    0.305182  \n",
       "4    0.213330  \n",
       "6    0.273502  \n",
       "7    0.319307  \n",
       "0    0.311899  \n",
       "1    0.368556  \n",
       "2    0.333552  \n",
       "3    0.285354  "
      ]
     },
     "execution_count": 32,
     "metadata": {},
     "output_type": "execute_result"
    }
   ],
   "source": [
    "df.sort_values(by=['CV_1 train','CV_1 test'])"
   ]
  },
  {
   "cell_type": "code",
   "execution_count": null,
   "metadata": {},
   "outputs": [],
   "source": []
  }
 ],
 "metadata": {
  "interpreter": {
   "hash": "84e5a2fd7e25c8bcf38508d69068628463a9d9ea1454c39f49bb2bfb5f0bb0bf"
  },
  "kernelspec": {
   "name": "pycharm-fc304c6f",
   "language": "python",
   "display_name": "PyCharm (3ºSemestre)"
  },
  "language_info": {
   "codemirror_mode": {
    "name": "ipython",
    "version": 3
   },
   "file_extension": ".py",
   "mimetype": "text/x-python",
   "name": "python",
   "nbconvert_exporter": "python",
   "pygments_lexer": "ipython3",
   "version": "3.8.8"
  }
 },
 "nbformat": 4,
 "nbformat_minor": 2
}