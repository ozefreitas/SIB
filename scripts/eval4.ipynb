{
 "cells": [
  {
   "cell_type": "markdown",
   "id": "f07b8dde",
   "metadata": {},
   "source": [
    "# Neural Networks"
   ]
  },
  {
   "cell_type": "markdown",
   "id": "423f292f",
   "metadata": {},
   "source": [
    "## XNOR"
   ]
  },
  {
   "cell_type": "code",
   "execution_count": 1,
   "id": "698c23e4",
   "metadata": {},
   "outputs": [],
   "source": [
    "import numpy as np\n",
    "from si.data import Dataset\n",
    "X = np.array([[0,0], [0,1], [1,0], [1,1]])\n",
    "y = np.array([[1], [0], [0], [1]])\n",
    "dataset = Dataset(X,y,['X1','X2'],'X1 XNOR X2')"
   ]
  },
  {
   "cell_type": "code",
   "execution_count": 2,
   "id": "5539ea95",
   "metadata": {},
   "outputs": [
    {
     "data": {
      "text/plain": "   X1  X2  X1 XNOR X2\n0   0   0           1\n1   0   1           0\n2   1   0           0\n3   1   1           1",
      "text/html": "<div>\n<style scoped>\n    .dataframe tbody tr th:only-of-type {\n        vertical-align: middle;\n    }\n\n    .dataframe tbody tr th {\n        vertical-align: top;\n    }\n\n    .dataframe thead th {\n        text-align: right;\n    }\n</style>\n<table border=\"1\" class=\"dataframe\">\n  <thead>\n    <tr style=\"text-align: right;\">\n      <th></th>\n      <th>X1</th>\n      <th>X2</th>\n      <th>X1 XNOR X2</th>\n    </tr>\n  </thead>\n  <tbody>\n    <tr>\n      <th>0</th>\n      <td>0</td>\n      <td>0</td>\n      <td>1</td>\n    </tr>\n    <tr>\n      <th>1</th>\n      <td>0</td>\n      <td>1</td>\n      <td>0</td>\n    </tr>\n    <tr>\n      <th>2</th>\n      <td>1</td>\n      <td>0</td>\n      <td>0</td>\n    </tr>\n    <tr>\n      <th>3</th>\n      <td>1</td>\n      <td>1</td>\n      <td>1</td>\n    </tr>\n  </tbody>\n</table>\n</div>"
     },
     "execution_count": 2,
     "metadata": {},
     "output_type": "execute_result"
    }
   ],
   "source": [
    "dataset.toDataframe()"
   ]
  },
  {
   "cell_type": "code",
   "execution_count": 4,
   "id": "049da626",
   "metadata": {},
   "outputs": [],
   "source": [
    "from si.supervised.nn import NN, Dense, Activation\n",
    "from si.util.activation import Sigmoid\n",
    "from src.si.util.metrics import  cross_entropy, cross_entropy_prime"
   ]
  },
  {
   "cell_type": "code",
   "execution_count": 5,
   "id": "34441798",
   "metadata": {},
   "outputs": [],
   "source": [
    "# layer1 weights\n",
    "w1 = np.array([[20,-20],[20,-20]])\n",
    "b1 = np.array([[-30, 10]])\n",
    "l1 = Dense(2, 2)\n",
    "l1.setWeights(w1,b1)"
   ]
  },
  {
   "cell_type": "code",
   "execution_count": 6,
   "id": "8149016a",
   "metadata": {},
   "outputs": [],
   "source": [
    "# layer2 weights\n",
    "w2 = np.array([[20],[20]])\n",
    "b2 = np.array([[-10]])\n",
    "l2 = Dense(2, 1)\n",
    "l2.setWeights(w2,b2)"
   ]
  },
  {
   "cell_type": "code",
   "execution_count": 10,
   "id": "3e69a316",
   "metadata": {},
   "outputs": [],
   "source": [
    "# Build the NN\n",
    "nn = NN()\n",
    "nn.add(l1)\n",
    "nn.add(Activation(Sigmoid()))\n",
    "nn.add(l2)\n",
    "nn.add(Activation(Sigmoid()))\n",
    "# pass the info that the model is fitted\n",
    "nn.is_fited = True"
   ]
  },
  {
   "cell_type": "code",
   "execution_count": 11,
   "id": "b8f8ed58",
   "metadata": {},
   "outputs": [
    {
     "data": {
      "text/plain": "array([[1.],\n       [0.],\n       [0.],\n       [1.]])"
     },
     "execution_count": 11,
     "metadata": {},
     "output_type": "execute_result"
    }
   ],
   "source": [
    "np.round(nn.predict(dataset.X))"
   ]
  },
  {
   "cell_type": "code",
   "execution_count": 13,
   "id": "a0bec0a5",
   "metadata": {},
   "outputs": [
    {
     "data": {
      "text/plain": "2.066588540474394e-09"
     },
     "execution_count": 13,
     "metadata": {},
     "output_type": "execute_result"
    }
   ],
   "source": [
    "nn.cost(dataset.X,dataset.Y)"
   ]
  },
  {
   "cell_type": "markdown",
   "id": "a21d4930",
   "metadata": {},
   "source": [
    "## Train the model using backpropagation"
   ]
  },
  {
   "cell_type": "code",
   "execution_count": 14,
   "id": "187d0e28",
   "metadata": {},
   "outputs": [],
   "source": [
    "nn2 = NN(epochs=100000,lr=0.1, verbose=False)\n",
    "nn2.add(Dense(2, 2))\n",
    "nn2.add(Activation(Sigmoid()))\n",
    "nn2.add(Dense(2, 1))\n",
    "nn2.add(Activation(Sigmoid()))\n",
    "# use cross entropy instead of MSE as loss function\n",
    "# nn2.use(cross_entropy,cross_entropy_prime)"
   ]
  },
  {
   "cell_type": "code",
   "execution_count": 15,
   "id": "8dc1623c",
   "metadata": {},
   "outputs": [
    {
     "name": "stdout",
     "output_type": "stream",
     "text": [
      "error=0.0004684166423662328\n"
     ]
    }
   ],
   "source": [
    "nn2.fit(dataset)"
   ]
  },
  {
   "cell_type": "code",
   "execution_count": 16,
   "id": "77ecee76",
   "metadata": {},
   "outputs": [
    {
     "data": {
      "text/plain": "array([[1.],\n       [0.],\n       [0.],\n       [1.]])"
     },
     "execution_count": 16,
     "metadata": {},
     "output_type": "execute_result"
    }
   ],
   "source": [
    "np.round(nn2.predict(X))"
   ]
  },
  {
   "cell_type": "code",
   "execution_count": 17,
   "id": "9c39308d",
   "metadata": {},
   "outputs": [
    {
     "data": {
      "text/plain": "<Figure size 432x288 with 1 Axes>",
      "image/png": "[encoded data removed]"
     },
     "metadata": {
      "needs_background": "light"
     },
     "output_type": "display_data"
    }
   ],
   "source": [
    "import matplotlib.pyplot as plt\n",
    "%matplotlib inline\n",
    "plt.plot(list(nn2.history.keys()), list(nn2.history.values()), '-', color='red')\n",
    "plt.title('Loss')\n",
    "plt.show()"
   ]
  },
  {
   "cell_type": "code",
   "execution_count": 18,
   "id": "e0839b61",
   "metadata": {},
   "outputs": [
    {
     "data": {
      "text/plain": "array([[1.],\n       [0.],\n       [0.],\n       [1.]])"
     },
     "execution_count": 18,
     "metadata": {},
     "output_type": "execute_result"
    }
   ],
   "source": [
    "np.round(nn2.predict(dataset.X))"
   ]
  },
  {
   "cell_type": "code",
   "execution_count": 20,
   "id": "9c4cc530",
   "metadata": {},
   "outputs": [
    {
     "data": {
      "text/plain": "0.0004684082303593649"
     },
     "execution_count": 20,
     "metadata": {},
     "output_type": "execute_result"
    }
   ],
   "source": [
    "nn2.cost(dataset.X,dataset.Y)"
   ]
  },
  {
   "cell_type": "code",
   "execution_count": null,
   "id": "1045d635",
   "metadata": {},
   "outputs": [],
   "source": []
  }
 ],
 "metadata": {
  "interpreter": {
   "hash": "84e5a2fd7e25c8bcf38508d69068628463a9d9ea1454c39f49bb2bfb5f0bb0bf"
  },
  "kernelspec": {
   "name": "pycharm-fc304c6f",
   "language": "python",
   "display_name": "PyCharm (3ºSemestre)"
  },
  "language_info": {
   "codemirror_mode": {
    "name": "ipython",
    "version": 3
   },
   "file_extension": ".py",
   "mimetype": "text/x-python",
   "name": "python",
   "nbconvert_exporter": "python",
   "pygments_lexer": "ipython3",
   "version": "3.8.8"
  }
 },
 "nbformat": 4,
 "nbformat_minor": 5
}